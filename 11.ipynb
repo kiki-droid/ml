{
  "nbformat": 4,
  "nbformat_minor": 0,
  "metadata": {
    "colab": {
      "provenance": [],
      "collapsed_sections": []
    },
    "kernelspec": {
      "name": "python3",
      "display_name": "Python 3"
    },
    "language_info": {
      "name": "python"
    }
  },
  "cells": [
    {
      "cell_type": "code",
      "execution_count": 8,
      "metadata": {
        "colab": {
          "base_uri": "https://localhost:8080/"
        },
        "id": "hXUTzByeaA_T",
        "outputId": "e7ea9dd2-fd34-4170-c795-982c145f2a03"
      },
      "outputs": [
        {
          "output_type": "stream",
          "name": "stdout",
          "text": [
            "\n",
            " Input:\n",
            "[[0.3 0.8]]\n",
            "\n",
            " Actual Output:\n",
            "[[0.05 0.6 ]]\n",
            "\n",
            " Output from the model:\n",
            "[[0.0513554  0.60000062]]\n"
          ]
        }
      ],
      "source": [
        "import numpy as np\n",
        "\n",
        "# creating the input array\n",
        "X=np.array([[0.3,0.8]])\n",
        "print ('\\n Input:')\n",
        "print(X)\n",
        "\n",
        "# creating the output array\n",
        "y = np.reshape([0.05,0.6],(1,2))\n",
        "print ('\\n Actual Output:')\n",
        "print(y)\n",
        "\n",
        "# defining the Sigmoid Function\n",
        "def sigmoid (x):\n",
        "    return 1/(1 + np.exp(-x))\n",
        "\n",
        "# derivative of Sigmoid Function\n",
        "def derivatives_sigmoid(x):\n",
        "    return x * (1 - x)\n",
        "\n",
        "# initializing the variables\n",
        "epoch=5000 # number of training iterations\n",
        "lr=0.1 # learning rate\n",
        "inputlayer_neurons = X.shape[1] # number of features in data set\n",
        "hiddenlayer_neurons = 2 # number of hidden layers neurons\n",
        "output_neurons = 2 # number of neurons at output layer\n",
        "\n",
        "# initializing weight and bias\n",
        "wh=np.resize([0.1, 0.3, 0.25, 0.8],(inputlayer_neurons, hiddenlayer_neurons))\n",
        "bh=np.resize([1.0,1.0],(1,hiddenlayer_neurons))\n",
        "wout=np.resize([0.2, 0.6, 0.4, 0.7],(inputlayer_neurons, hiddenlayer_neurons))\n",
        "bout=np.resize([1.0,1.0],(1,output_neurons))\n",
        "\n",
        "# training the model\n",
        "for i in range(epoch):\n",
        "    # print(i)\n",
        "    # Forward Propogation\n",
        "    hidden_layer_input1=np.dot(X,wh)\n",
        "    hidden_layer_input=hidden_layer_input1 + bh\n",
        "    hiddenlayer_activations = sigmoid(hidden_layer_input)\n",
        "    output_layer_input1=np.dot(hiddenlayer_activations,wout)\n",
        "    output_layer_input= output_layer_input1+ bout\n",
        "    output = sigmoid(output_layer_input)\n",
        "\n",
        "    # Backpropagation\n",
        "    E = y-output\n",
        "    slope_output_layer = derivatives_sigmoid(output)\n",
        "    slope_hidden_layer = derivatives_sigmoid(hiddenlayer_activations)\n",
        "    d_output = E * slope_output_layer\n",
        "    Error_at_hidden_layer = d_output.dot(wout.T)\n",
        "    d_hiddenlayer = Error_at_hidden_layer * slope_hidden_layer\n",
        "    wout += hiddenlayer_activations.T.dot(d_output) *lr\n",
        "    bout += np.sum(d_output, axis=0,keepdims=True) *lr\n",
        "    wh += X.T.dot(d_hiddenlayer) *lr\n",
        "    bh += np.sum(d_hiddenlayer, axis=0,keepdims=True) *lr\n",
        "\n",
        "print ('\\n Output from the model:')\n",
        "print (output)"
      ]
    }
  ]
}