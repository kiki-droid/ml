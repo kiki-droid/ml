{
  "nbformat": 4,
  "nbformat_minor": 0,
  "metadata": {
    "colab": {
      "provenance": []
    },
    "kernelspec": {
      "name": "python3",
      "display_name": "Python 3"
    },
    "language_info": {
      "name": "python"
    }
  },
  "cells": [
    {
      "cell_type": "code",
      "source": [
        "from sklearn.datasets import load_iris\n",
        "from sklearn.cluster import KMeans\n",
        "from sklearn import datasets\n",
        "\n",
        "import matplotlib.pyplot as plt\n",
        "import numpy as np\n",
        "import pandas as pd"
      ],
      "metadata": {
        "id": "W2Rw2cMDKHai"
      },
      "execution_count": null,
      "outputs": []
    },
    {
      "cell_type": "code",
      "source": [
        "np.random.seed(100)"
      ],
      "metadata": {
        "id": "eApwrGNTKPUg"
      },
      "execution_count": null,
      "outputs": []
    },
    {
      "cell_type": "code",
      "source": [
        "class kMeans():\n",
        "  def __init__(self, dimension, k):\n",
        "    self._dimension = dimension\n",
        "    self._clusters = k\n",
        "    self._prototypes = np.zeros((k, dimension))\n",
        "\n",
        "  def __sample_with_prob(self, sample_space, probability, num_samples=1):\n",
        "    idx = [i for i in range(sample_space.shape[0])]\n",
        "    pos = np.random.choice(idx, p=probability)\n",
        "\n",
        "    return sample_space[pos]\n",
        "\n",
        "  def __initialize_prototypes(self, X):\n",
        "    probs = None\n",
        "    center = self.__sample_with_prob(X, probs)\n",
        "    self._prototypes[0, :] = center\n",
        "\n",
        "    for i in range(1, self._clusters):\n",
        "      probs = self.__nearest_cluster_dist(X, i)\n",
        "      probs = [j ** 2 for j in probs]\n",
        "      tot = sum(probs)\n",
        "      probs = [j/tot for j in probs]\n",
        "      center = self.__sample_with_prob(X, probs)\n",
        "      self._prototypes[i, :] = center\n",
        "\n",
        "  def __nearest_cluster_dist(self, X, i=None, clust_assign=False):\n",
        "    if i is not None:\n",
        "      prototypes = self._prototypes[0:i, :]\n",
        "    else:\n",
        "      prototypes = self._prototypes\n",
        "    dists = list()\n",
        "    for x in X:\n",
        "      temp = []\n",
        "      for cluster in prototypes:\n",
        "        temp.append(np.linalg.norm(x - cluster))\n",
        "      if clust_assign:\n",
        "        dists.append(np.argmin(temp))\n",
        "      else:\n",
        "        dists.append(np.min(temp))\n",
        "    return dists\n",
        "\n",
        "  def __cluster_means(self, X, c):\n",
        "    c = np.array(c)\n",
        "    centroids = np.zeros(self._prototypes.shape)\n",
        "    for k in range(self._clusters):\n",
        "      cluster_group = X[c == k, :]\n",
        "      centroids[k, :] = cluster_group.mean(axis=0)\n",
        "    return centroids\n",
        "\n",
        "  def __WCSS(self, X, c):\n",
        "    s = 0\n",
        "    for i, x in enumerate(X):\n",
        "      s += np.linalg.norm(x - self._prototypes[c[i]]) ** 2\n",
        "    return s\n",
        "\n",
        "  def fit(self, X, max_iterations=3000):\n",
        "    self.__initialize_prototypes(X)\n",
        "    current = self._prototypes\n",
        "\n",
        "    for i in range(max_iterations):\n",
        "    # while True:\n",
        "      c = self.__nearest_cluster_dist(X, clust_assign=True)\n",
        "      centroids = self.__cluster_means(X, c)\n",
        "      \n",
        "      if np.array_equal(centroids, self._prototypes):\n",
        "        # print(f\"Converged in {i+1} iterations\")\n",
        "        return self.__WCSS(X, c)\n",
        "\n",
        "      self._prototypes = centroids\n",
        "    \n",
        "    print(f\"Reached Max Iterations but not converged.\")\n",
        "    return self.__WCSS(X, c)"
      ],
      "metadata": {
        "id": "U4nogQiiKjKg"
      },
      "execution_count": null,
      "outputs": []
    },
    {
      "cell_type": "code",
      "source": [
        "X, _ = load_iris(return_X_y=True)\n",
        "WCSS = list()\n",
        "\n",
        "for k in range(1, 12):\n",
        "  model = kMeans(X.shape[1], k)\n",
        "  s = model.fit(X)\n",
        "  WCSS.append(s)\n",
        "  print(f\"K: {k}, WCSS = {s}\")"
      ],
      "metadata": {
        "colab": {
          "base_uri": "https://localhost:8080/"
        },
        "id": "2Qz8Z_Zrajlc",
        "outputId": "b0aea7fd-9050-4cce-ad82-da461bb9a710"
      },
      "execution_count": null,
      "outputs": [
        {
          "output_type": "stream",
          "name": "stdout",
          "text": [
            "K: 1, WCSS = 681.3706000000001\n",
            "K: 2, WCSS = 152.34795176035803\n",
            "K: 3, WCSS = 78.85566582597724\n",
            "K: 4, WCSS = 57.25600931571815\n",
            "K: 5, WCSS = 49.86225000000002\n",
            "K: 6, WCSS = 39.03998724608726\n",
            "K: 7, WCSS = 41.30235732323235\n",
            "K: 8, WCSS = 36.441811688311724\n",
            "K: 9, WCSS = 31.869045227577203\n",
            "K: 10, WCSS = 31.469073529411773\n",
            "K: 11, WCSS = 25.770215197083633\n"
          ]
        }
      ]
    },
    {
      "cell_type": "code",
      "source": [
        "plt.figure(figsize=(6, 4))\n",
        "plt.plot([i for i in range(1, 12)], WCSS)"
      ],
      "metadata": {
        "colab": {
          "base_uri": "https://localhost:8080/",
          "height": 282
        },
        "id": "XyqdQtB2ar3b",
        "outputId": "c2da6d83-7504-4681-d03f-5398834e174e"
      },
      "execution_count": null,
      "outputs": [
        {
          "output_type": "execute_result",
          "data": {
            "text/plain": [
              "[<matplotlib.lines.Line2D at 0x7f7db5342bd0>]"
            ]
          },
          "metadata": {},
          "execution_count": 14
        },
        {
          "output_type": "display_data",
          "data": {
            "text/plain": [
              "<Figure size 432x288 with 1 Axes>"
            ],
            "image/png": "[encoded data removed]"
          },
          "metadata": {
            "needs_background": "light"
          }
        }
      ]
    }
  ]
}